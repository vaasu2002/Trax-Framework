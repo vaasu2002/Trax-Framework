{
  "nbformat": 4,
  "nbformat_minor": 0,
  "metadata": {
    "colab": {
      "name": "Using Trax framework for making a deep neural network for sentiment analysis.ipynb",
      "provenance": []
    },
    "kernelspec": {
      "name": "python3",
      "display_name": "Python 3"
    },
    "language_info": {
      "name": "python"
    },
    "accelerator": "GPU",
    "gpuClass": "standard"
  },
  "cells": [
    {
      "cell_type": "markdown",
      "source": [
        "[Run the code](https://colab.research.google.com/drive/1KiHjrTVGYOIk_twVgjTexveWrwlvGvO6?usp=sharing)"
      ],
      "metadata": {
        "id": "6GD03i7p0_Wt"
      }
    },
    {
      "cell_type": "markdown",
      "source": [
        "# Importing Dependencies"
      ],
      "metadata": {
        "id": "1fv7tkqKNcyN"
      }
    },
    {
      "cell_type": "markdown",
      "source": [
        "**Trax** framework is much more concise than TensorFlow and PyTorch. It runs on a TensorFlow backend but allows US to train models with one line commands. Trax also runs end to end, allowing you to get data, model and train all with a single terse statements. Trax is good for implementing new state of the art algorithms like Transformers, Reformers, BERT because it is actively maintained by Google Brain Team for advanced deep learning tasks. It runs smoothly on CPUs,GPUs and TPUs as well with comparatively lesser modifications in code. "
      ],
      "metadata": {
        "id": "U2um5MSuB3Zp"
      }
    },
    {
      "cell_type": "code",
      "source": [
        "# Trax version 1.3.9 or better \n",
        "!pip install -q trax"
      ],
      "metadata": {
        "colab": {
          "base_uri": "https://localhost:8080/"
        },
        "id": "JGUWxwggN_oF",
        "outputId": "cb98b35e-6620-451f-eefd-5e2c2ee51974"
      },
      "execution_count": 1,
      "outputs": [
        {
          "output_type": "stream",
          "name": "stdout",
          "text": [
            "\u001b[K     |████████████████████████████████| 637 kB 10.3 MB/s \n",
            "\u001b[K     |████████████████████████████████| 4.6 MB 47.3 MB/s \n",
            "\u001b[K     |████████████████████████████████| 511.7 MB 5.7 kB/s \n",
            "\u001b[K     |████████████████████████████████| 1.6 MB 42.8 MB/s \n",
            "\u001b[K     |████████████████████████████████| 5.8 MB 30.6 MB/s \n",
            "\u001b[K     |████████████████████████████████| 438 kB 51.1 MB/s \n",
            "\u001b[?25h"
          ]
        }
      ]
    },
    {
      "cell_type": "code",
      "source": [
        "# import relevant libraries\n",
        "import string\n",
        "import re\n",
        "import os\n",
        "import nltk\n",
        "import os \n",
        "import shutil\n",
        "import random as rnd\n",
        "import trax\n",
        "import trax.fastmath.numpy as np\n",
        "from trax import layers as tl\n",
        "from trax import fastmath\n",
        "\n",
        "nltk.download('stopwords')\n",
        "from nltk.corpus import stopwords # Stop words are messy and not that compelling; \n",
        "stopwords_english = stopwords.words('english') # \"very\" and \"not\" are considered stop words, but they are obviously expressing sentiment\n",
        "\n",
        "nltk.download('twitter_samples')\n",
        "from nltk.corpus import twitter_samples \n",
        "\n",
        "from nltk.stem import PorterStemmer # The porter stemmer lemmatizes \"was\" to \"wa\".  Seriously???\n",
        "stemmer = PorterStemmer() # Making an object\n",
        "\n",
        "from nltk.tokenize import TweetTokenizer\n",
        "tweet_tokenizer = TweetTokenizer(preserve_case=False, strip_handles=True, reduce_len=True)"
      ],
      "metadata": {
        "colab": {
          "base_uri": "https://localhost:8080/"
        },
        "id": "bPPmAlxALTRn",
        "outputId": "33e66223-153d-4abf-f14f-3b99d20f3cdb"
      },
      "execution_count": 2,
      "outputs": [
        {
          "output_type": "stream",
          "name": "stderr",
          "text": [
            "[nltk_data] Downloading package stopwords to /root/nltk_data...\n",
            "[nltk_data]   Unzipping corpora/stopwords.zip.\n",
            "[nltk_data] Downloading package twitter_samples to /root/nltk_data...\n",
            "[nltk_data]   Unzipping corpora/twitter_samples.zip.\n"
          ]
        }
      ]
    },
    {
      "cell_type": "markdown",
      "source": [
        "# PRE-PROCESSING"
      ],
      "metadata": {
        "id": "XIVXJbjyNkgT"
      }
    },
    {
      "cell_type": "markdown",
      "source": [
        "## Loading Data"
      ],
      "metadata": {
        "id": "vuME9jaINnFh"
      }
    },
    {
      "cell_type": "code",
      "source": [
        "def load_tweets():\n",
        "    all_positive_tweets = twitter_samples.strings('positive_tweets.json')\n",
        "    all_negative_tweets = twitter_samples.strings('negative_tweets.json')  \n",
        "    return all_positive_tweets, all_negative_tweets"
      ],
      "metadata": {
        "id": "WPlyYKnSNHoy"
      },
      "execution_count": 3,
      "outputs": []
    },
    {
      "cell_type": "code",
      "source": [
        "def train_val_split():\n",
        "    # Load positive and negative tweets\n",
        "    all_positive_tweets, all_negative_tweets = load_tweets()\n",
        "\n",
        "    # View the total number of positive and negative tweets.\n",
        "    print(f\"The number of positive tweets: {len(all_positive_tweets)}\")\n",
        "    print(f\"The number of negative tweets: {len(all_negative_tweets)}\")\n",
        "\n",
        "    # Split positive set into validation and training\n",
        "    val_pos   = all_positive_tweets[4000:] # generating validation set for positive tweets\n",
        "    train_pos  = all_positive_tweets[:4000]# generating training set for positive tweets\n",
        "\n",
        "    # Split negative set into validation and training\n",
        "    val_neg   = all_negative_tweets[4000:] # generating validation set for negative tweets\n",
        "    train_neg  = all_negative_tweets[:4000] # generating training set for nagative tweets\n",
        "    \n",
        "    # Combine training data into one set\n",
        "    train_x = train_pos + train_neg \n",
        "\n",
        "    # Combine validation data into one set\n",
        "    val_x  = val_pos + val_neg\n",
        "\n",
        "    # Set the labels for the training set (1 for positive, 0 for negative)\n",
        "    train_y = np.append(np.ones(len(train_pos)), np.zeros(len(train_neg)))\n",
        "\n",
        "    # Set the labels for the validation set (1 for positive, 0 for negative)\n",
        "    val_y  = np.append(np.ones(len(val_pos)), np.zeros(len(val_neg)))\n",
        "\n",
        "\n",
        "    return train_pos, train_neg, train_x, train_y, val_pos, val_neg, val_x, val_y"
      ],
      "metadata": {
        "id": "Hh_H5mlLN227"
      },
      "execution_count": 4,
      "outputs": []
    },
    {
      "cell_type": "code",
      "source": [
        "train_pos, train_neg, train_x, train_y, val_pos, val_neg, val_x, val_y = train_val_split()\n",
        "print(f\"length of train_x:- {len(train_x)}\")\n",
        "print(f\"length of val_x:-  {len(val_x)}\")"
      ],
      "metadata": {
        "colab": {
          "base_uri": "https://localhost:8080/"
        },
        "id": "NqxBskmMNxkE",
        "outputId": "6da74d81-7ce0-49df-e374-d9f53af4f910"
      },
      "execution_count": 5,
      "outputs": [
        {
          "output_type": "stream",
          "name": "stdout",
          "text": [
            "The number of positive tweets: 5000\n",
            "The number of negative tweets: 5000\n",
            "length of train_x:- 8000\n",
            "length of val_x:-  2000\n"
          ]
        }
      ]
    },
    {
      "cell_type": "markdown",
      "source": [
        "## Pre Processing Tweets"
      ],
      "metadata": {
        "id": "8XQJmZIkPmFN"
      }
    },
    {
      "cell_type": "code",
      "source": [
        "def process_tweet(tweet):\n",
        "    '''\n",
        "    Input: \n",
        "        tweet: a string containing a tweet\n",
        "    Output:\n",
        "        tweets_clean: a list of words containing the processed tweet\n",
        "    \n",
        "    '''\n",
        "    # remove stock market tickers like $GE\n",
        "    tweet = re.sub(r'\\$\\w*', '', tweet)\n",
        "    # remove old style retweet text \"RT\"\n",
        "    tweet = re.sub(r'^RT[\\s]+', '', tweet)\n",
        "    # remove hyperlinks\n",
        "    tweet = re.sub(r'https?:\\/\\/.*[\\r\\n]*', '', tweet)\n",
        "    # remove hashtags\n",
        "    # only removing the hash # sign from the word\n",
        "    tweet = re.sub(r'#', '', tweet)\n",
        "    # tokenize tweets\n",
        "    tokenizer = TweetTokenizer(preserve_case=False, strip_handles=True, reduce_len=True)\n",
        "    tweet_tokens = tokenizer.tokenize(tweet) # ['hi', 'i', 'am', 'vaasu']\n",
        "\n",
        "    tweets_clean = []\n",
        "    for word in tweet_tokens:\n",
        "        if (word not in stopwords_english and # remove stopwords\n",
        "            word not in string.punctuation): # remove punctuation\n",
        "            #tweets_clean.append(word)\n",
        "            stem_word = stemmer.stem(word) # stemming word\n",
        "            tweets_clean.append(stem_word)\n",
        "\n",
        "    return tweets_clean"
      ],
      "metadata": {
        "id": "ZbYpHuQLPg2b"
      },
      "execution_count": 6,
      "outputs": []
    },
    {
      "cell_type": "markdown",
      "source": [
        "## Building the vocabulary"
      ],
      "metadata": {
        "id": "FkZdwMv3QIpB"
      }
    },
    {
      "cell_type": "code",
      "source": [
        "def get_vocab(train_x):\n",
        "\n",
        "    # Include special tokens \n",
        "    # started with pad, end of line and unk tokens\n",
        "    Vocab = {'__PAD__': 0, '__</e>__': 1, '__UNK__': 2} \n",
        "\n",
        "    # Note that we build vocab using training data\n",
        "    for tweet in train_x: \n",
        "        processed_tweet = process_tweet(tweet)\n",
        "        for word in processed_tweet:\n",
        "            if word not in Vocab: \n",
        "                Vocab[word] = len(Vocab)\n",
        "    \n",
        "    return Vocab\n",
        "\n",
        "Vocab = get_vocab(train_x)\n",
        "\n",
        "print(\"Total words in vocab are\",len(Vocab))\n",
        "#display(Vocab)"
      ],
      "metadata": {
        "colab": {
          "base_uri": "https://localhost:8080/"
        },
        "id": "eyhZCQzvPg4U",
        "outputId": "8baffa64-9c80-4c05-dd8f-46ed1e422321"
      },
      "execution_count": 7,
      "outputs": [
        {
          "output_type": "stream",
          "name": "stdout",
          "text": [
            "Total words in vocab are 9089\n"
          ]
        }
      ]
    },
    {
      "cell_type": "markdown",
      "source": [
        "- Each unique word has a unique integer associated with it.\n",
        "- The total number of words in Vocab: 9088"
      ],
      "metadata": {
        "id": "MYU9lztZQP7U"
      }
    },
    {
      "cell_type": "markdown",
      "source": [
        "## Converting a tweet to a tensor\n",
        "\n",
        "This function will convert each tweet to a tensor (a list of unique integer IDs representing the processed tweet).\n",
        "- Note, the returned data type will be a **regular Python `list()`**\n",
        "    - You won't use TensorFlow in this function\n",
        "    - You also won't use a numpy array\n",
        "    - You also won't use trax.fastmath.numpy array\n",
        "- For words in the tweet that are not in the vocabulary, set them to the unique ID for the token `__UNK__`.\n",
        "\n",
        "##### Example\n",
        "Input a tweet:\n",
        "```CPP\n",
        "'@happypuppy, is Maria happy?'\n",
        "```\n",
        "\n",
        "The tweet_to_tensor will first conver the tweet into a list of tokens (including only relevant words)\n",
        "```CPP\n",
        "['maria', 'happi']\n",
        "```\n",
        "\n",
        "Then it will convert each word into its unique integer\n",
        "\n",
        "```CPP\n",
        "[2, 56]\n",
        "```\n",
        "- Notice that the word \"maria\" is not in the vocabulary, so it is assigned the unique integer associated with the `__UNK__` token, because it is considered \"unknown.\""
      ],
      "metadata": {
        "id": "4YJaUy_PQc8J"
      }
    },
    {
      "cell_type": "code",
      "source": [
        "def tweet_to_tensor(tweet, vocab_dict, unk_token='__UNK__', verbose=False):\n",
        "    '''\n",
        "    Input: \n",
        "        tweet - A string containing a tweet\n",
        "        vocab_dict - The words dictionary\n",
        "        unk_token - The special string for unknown tokens\n",
        "        verbose - Print info durign runtime\n",
        "    Output:\n",
        "        tensor_l - A python list with\n",
        "        \n",
        "    '''  \n",
        "    \n",
        "    ### START CODE HERE (Replace instances of 'None' with your code) ###\n",
        "    # Process the tweet into a list of words\n",
        "    # where only important words are kept (stop words removed)\n",
        "    word_l = process_tweet(tweet)\n",
        "    \n",
        "    if verbose:\n",
        "        print(\"List of words from the processed tweet:\")\n",
        "        print(word_l)\n",
        "        \n",
        "    # Initialize the list that will contain the unique integer IDs of each word\n",
        "    tensor_l = []\n",
        "    \n",
        "    # Get the unique integer ID of the __UNK__ token\n",
        "    unk_ID = vocab_dict.get(unk_token)\n",
        "    \n",
        "    if verbose:\n",
        "        print(f\"The unique integer ID for the unk_token is {unk_ID}\")\n",
        "        \n",
        "    # for each word in the list:\n",
        "    for word in word_l:\n",
        "        \n",
        "        # Get the unique integer ID.\n",
        "        # If the word doesn't exist in the vocab dictionary,\n",
        "        # use the unique ID for __UNK__ instead.\n",
        "        word_ID = vocab_dict.get(word if word in vocab_dict else unk_token)\n",
        "    ### END CODE HERE ###\n",
        "        \n",
        "        # Append the unique integer ID to the tensor list.\n",
        "        tensor_l.append(word_ID) \n",
        "    \n",
        "    return tensor_l"
      ],
      "metadata": {
        "id": "scUh39OaPg9X"
      },
      "execution_count": 8,
      "outputs": []
    },
    {
      "cell_type": "code",
      "source": [
        "print(\"Actual tweet is\\n\", val_pos[0])\n",
        "print(\"\\nTensor of tweet:\\n\", tweet_to_tensor(val_pos[0], vocab_dict=Vocab))"
      ],
      "metadata": {
        "colab": {
          "base_uri": "https://localhost:8080/"
        },
        "id": "iUU-1RMAPhBA",
        "outputId": "631ffb3d-74c6-4f15-df09-9b0791442838"
      },
      "execution_count": 9,
      "outputs": [
        {
          "output_type": "stream",
          "name": "stdout",
          "text": [
            "Actual tweet is\n",
            " Bro:U wan cut hair anot,ur hair long Liao bo\n",
            "Me:since ord liao,take it easy lor treat as save $ leave it longer :)\n",
            "Bro:LOL Sibei xialan\n",
            "\n",
            "Tensor of tweet:\n",
            " [1064, 136, 478, 2351, 744, 8149, 1122, 744, 53, 2, 2671, 790, 2, 2, 348, 600, 2, 3488, 1016, 596, 4558, 9, 1064, 157, 2, 2]\n"
          ]
        }
      ]
    },
    {
      "cell_type": "markdown",
      "source": [
        "## Creating a batch generator\n",
        "\n",
        "Most of the time in Natural Language Processing, and AI in general we use batches when training our data sets. \n",
        "- If instead of training with batches of examples, we were to train a model with one example at a time, it would take a very long time to train the model. \n",
        "- we will now build a data generator that takes in the positive/negative tweets and returns a batch of training examples. It returns the model inputs, the targets (positive or negative labels) and the weight for each target (ex: this allows us to can treat some examples as more important to get right than others, but commonly this will all be 1.0). \n",
        "\n",
        "Once we create the generator, we could include it in a for loop\n",
        "```CPP\n",
        "for batch_inputs, batch_targets, batch_example_weights in data_generator:\n",
        "    ...\n",
        "```\n",
        "\n",
        "We can also get a single batch like this:\n",
        "\n",
        "```CPP\n",
        "batch_inputs, batch_targets, batch_example_weights = next(data_generator)\n",
        "```\n",
        "The generator returns the next batch each time it's called. \n",
        "- This generator returns the data in a format (tensors) that we could directly use in our model.\n",
        "- It returns a triplet: the inputs, targets, and loss weights:\n",
        "    - Inputs is a tensor that contains the batch of tweets we put into the model.\n",
        "    - Targets is the corresponding batch of labels that we train to generate.\n",
        "    - Loss weights here are just 1s with same shape as targets. Next week, we will use it to mask input padding."
      ],
      "metadata": {
        "id": "BSgN8kmNRKj9"
      }
    },
    {
      "cell_type": "code",
      "source": [
        "def data_generator(data_pos, data_neg, batch_size, loop, vocab_dict, shuffle=False):\n",
        "    '''\n",
        "    Input: \n",
        "        data_pos - Set of posstive examples\n",
        "        data_neg - Set of negative examples\n",
        "        batch_size - number of samples per batch. Must be even\n",
        "        loop - True or False\n",
        "        vocab_dict - The words dictionary\n",
        "        shuffle - Shuffle the data order\n",
        "    Yield:\n",
        "        inputs - Subset of positive and negative examples\n",
        "        targets - The corresponding labels for the subset\n",
        "        example_weights - An array specifying the importance of each example\n",
        "        \n",
        "    '''     \n",
        "    # make sure the batch size is an even number\n",
        "    # to allow an equal number of positive and negative samples\n",
        "    assert batch_size % 2 == 0\n",
        "    \n",
        "    # Number of positive examples in each batch is half of the batch size\n",
        "    # same with number of negative examples in each batch\n",
        "    n_to_take = batch_size // 2\n",
        "    \n",
        "    # Use pos_index to walk through the data_pos array\n",
        "    # same with neg_index and data_neg\n",
        "    pos_index = 0\n",
        "    neg_index = 0\n",
        "    \n",
        "    len_data_pos = len(data_pos)\n",
        "    len_data_neg = len(data_neg)\n",
        "    \n",
        "    # Get and array with the data indexes\n",
        "    pos_index_lines = list(range(len_data_pos))\n",
        "    neg_index_lines = list(range(len_data_neg))\n",
        "    \n",
        "    # shuffle lines if shuffle is set to True\n",
        "    if shuffle:\n",
        "        rnd.shuffle(pos_index_lines)\n",
        "        rnd.shuffle(neg_index_lines)\n",
        "        \n",
        "    stop = False\n",
        "    \n",
        "    # Loop indefinitely\n",
        "    while not stop:  \n",
        "        \n",
        "        # create a batch with positive and negative examples\n",
        "        batch = []\n",
        "        \n",
        "        # First part: Pack n_to_take positive examples\n",
        "        \n",
        "        # Start from pos_index and increment i up to n_to_take\n",
        "        for i in range(n_to_take):\n",
        "                    \n",
        "            # If the positive index goes past the positive dataset lenght,\n",
        "            if pos_index >= len_data_pos: \n",
        "                \n",
        "                # If loop is set to False, break once we reach the end of the dataset\n",
        "                if not loop:\n",
        "                    stop = True;\n",
        "                    break;\n",
        "                \n",
        "                # If user wants to keep re-using the data, reset the index\n",
        "                pos_index = 0\n",
        "                \n",
        "                if shuffle:\n",
        "                    # Shuffle the index of the positive sample\n",
        "                    rnd.shuffle(pos_index_lines)\n",
        "                    \n",
        "            # get the tweet as pos_index\n",
        "            tweet = data_pos[pos_index_lines[pos_index]]\n",
        "            \n",
        "            # convert the tweet into tensors of integers representing the processed words\n",
        "            tensor = tweet_to_tensor(tweet, vocab_dict)\n",
        "            \n",
        "            # append the tensor to the batch list\n",
        "            batch.append(tensor)\n",
        "            \n",
        "            # Increment pos_index by one\n",
        "            pos_index = pos_index + 1\n",
        "\n",
        "\n",
        "        # Second part: Pack n_to_take negative examples\n",
        "    \n",
        "        # Using the same batch list, start from neg_index and increment i up to n_to_take\n",
        "        for i in range(n_to_take):\n",
        "            \n",
        "            # If the negative index goes past the negative dataset length,\n",
        "            if neg_index >= len_data_neg:\n",
        "                \n",
        "                # If loop is set to False, break once we reach the end of the dataset\n",
        "                if not loop:\n",
        "                    stop = True;\n",
        "                    break;\n",
        "                    \n",
        "                # If user wants to keep re-using the data, reset the index\n",
        "                neg_index = 0\n",
        "                \n",
        "                if shuffle:\n",
        "                    # Shuffle the index of the negative sample\n",
        "                    rnd.shuffle(neg_index_lines)\n",
        "            # get the tweet as neg_index\n",
        "            tweet = data_neg[neg_index_lines[neg_index]]\n",
        "            \n",
        "            # convert the tweet into tensors of integers representing the processed words\n",
        "            tensor = tweet_to_tensor(tweet,vocab_dict)\n",
        "            \n",
        "            # append the tensor to the batch list\n",
        "            batch.append(tensor)\n",
        "            \n",
        "            # Increment neg_index by one\n",
        "            neg_index = neg_index + 1\n",
        "\n",
        "        if stop:\n",
        "            break;\n",
        "\n",
        "        # Update the start index for positive data \n",
        "        # so that it's n_to_take positions after the current pos_index\n",
        "        pos_index += n_to_take\n",
        "        \n",
        "        # Update the start index for negative data \n",
        "        # so that it's n_to_take positions after the current neg_index\n",
        "        neg_index += n_to_take\n",
        "        \n",
        "        # Get the max tweet length (the length of the longest tweet) \n",
        "        # (you will pad all shorter tweets to have this length)\n",
        "        max_len = max([len(t) for t in batch]) \n",
        "        \n",
        "        \n",
        "        # Initialize the input_l, which will \n",
        "        # store the padded versions of the tensors\n",
        "        tensor_pad_l = []\n",
        "        # Pad shorter tweets with zeros\n",
        "        for tensor in batch:\n",
        "\n",
        "            # Get the number of positions to pad for this tensor so that it will be max_len long\n",
        "            n_pad = max_len - len(tensor)\n",
        "            \n",
        "            # Generate a list of zeros, with length n_pad\n",
        "            pad_l = [0 for _ in range(n_pad)]\n",
        "            \n",
        "            # concatenate the tensor and the list of padded zeros\n",
        "            tensor_pad = tensor + pad_l\n",
        "            \n",
        "            # append the padded tensor to the list of padded tensors\n",
        "            tensor_pad_l.append(tensor_pad)\n",
        "\n",
        "        # convert the list of padded tensors to a numpy array\n",
        "        # and store this as the model inputs\n",
        "        inputs = np.asarray(tensor_pad_l)\n",
        "  \n",
        "        # Generate the list of targets for the positive examples (a list of ones)\n",
        "        # The length is the number of positive examples in the batch\n",
        "        target_pos = [1 for _ in range(n_to_take)]\n",
        "        \n",
        "        # Generate the list of targets for the negative examples (a list of zeros)\n",
        "        # The length is the number of negative examples in the batch\n",
        "        target_neg = [0 for _ in range(n_to_take)]\n",
        "        \n",
        "        # Concatenate the positve and negative targets\n",
        "        target_l = target_pos + target_neg\n",
        "        \n",
        "        # Convert the target list into a numpy array\n",
        "        targets = np.asarray(target_l)\n",
        "\n",
        "        # Example weights: Treat all examples equally importantly.It should return an np.array. Hint: Use np.ones_like()\n",
        "        example_weights = np.ones_like(targets)\n",
        "        \n",
        "\n",
        "        # note we use yield and not return\n",
        "        yield inputs, targets, example_weights"
      ],
      "metadata": {
        "id": "2VbezRwkRKHX"
      },
      "execution_count": 10,
      "outputs": []
    },
    {
      "cell_type": "code",
      "source": [
        "# Set the random number generator for the shuffle procedure\n",
        "rnd.seed(30) \n",
        "\n",
        "# Create the training data generator\n",
        "\n",
        "def train_generator(batch_size, train_pos\n",
        "                    , train_neg, vocab_dict, loop=True\n",
        "                    , shuffle = False):\n",
        "    return data_generator(train_pos, train_neg, batch_size, loop, vocab_dict, shuffle)\n",
        "\n",
        "# Create the validation data generator\n",
        "def val_generator(batch_size, val_pos\n",
        "                    , val_neg, vocab_dict, loop=True\n",
        "                    , shuffle = False):\n",
        "    return data_generator(val_pos, val_neg, batch_size, loop, vocab_dict, shuffle)\n",
        "\n",
        "# Create the validation data generator\n",
        "def test_generator(batch_size, val_pos\n",
        "                    , val_neg, vocab_dict, loop=False\n",
        "                    , shuffle = False):\n",
        "    return data_generator(val_pos, val_neg, batch_size, loop, vocab_dict, shuffle)\n",
        "\n",
        "# Get a batch from the train_generator and inspect.\n",
        "inputs, targets, example_weights = next(train_generator(4, train_pos, train_neg, Vocab, shuffle=True))\n",
        "\n",
        "# this will print a list of 4 tensors padded with zeros\n",
        "print(f'Inputs: {inputs}')\n",
        "print(f'Targets: {targets}')\n",
        "print(f'Example Weights: {example_weights}')"
      ],
      "metadata": {
        "colab": {
          "base_uri": "https://localhost:8080/"
        },
        "id": "J1VrNs27PhCr",
        "outputId": "8228aef5-c6ad-483e-ffa9-b1d662f5e806"
      },
      "execution_count": 11,
      "outputs": [
        {
          "output_type": "stream",
          "name": "stdout",
          "text": [
            "Inputs: [[2005 4450 3200    9    0    0    0    0    0    0    0]\n",
            " [4953  566 2000 1453 5173 3498  141 3498  130  458    9]\n",
            " [3760  109  136  582 2929 3968    0    0    0    0    0]\n",
            " [ 249 3760    0    0    0    0    0    0    0    0    0]]\n",
            "Targets: [1 1 0 0]\n",
            "Example Weights: [1 1 1 1]\n"
          ]
        }
      ]
    },
    {
      "cell_type": "code",
      "source": [
        "# Test the train_generator\n",
        "\n",
        "# Create a data generator for training data,\n",
        "# which produces batches of size 4 (for tensors and their respective targets)\n",
        "tmp_data_gen = train_generator(batch_size = 4, train_pos=train_pos, train_neg=train_neg, vocab_dict=Vocab)\n",
        "\n",
        "# Call the data generator to get one batch and its targets\n",
        "tmp_inputs, tmp_targets, tmp_example_weights = next(tmp_data_gen)\n",
        "\n",
        "print(f\"The inputs shape is {tmp_inputs.shape}\")\n",
        "for i,t in enumerate(tmp_inputs):\n",
        "    print(f\"input tensor: {t}; target {tmp_targets[i]}; example weights {tmp_example_weights[i]}\")"
      ],
      "metadata": {
        "colab": {
          "base_uri": "https://localhost:8080/"
        },
        "id": "Tz4TXqBfMP9b",
        "outputId": "f367f5fb-4014-4d6b-8a79-f413c93db731"
      },
      "execution_count": 12,
      "outputs": [
        {
          "output_type": "stream",
          "name": "stdout",
          "text": [
            "The inputs shape is (4, 14)\n",
            "input tensor: [3 4 5 6 7 8 9 0 0 0 0 0 0 0]; target 1; example weights 1\n",
            "input tensor: [10 11 12 13 14 15 16 17 18 19 20  9 21 22]; target 1; example weights 1\n",
            "input tensor: [5737 2900 3760    0    0    0    0    0    0    0    0    0    0    0]; target 0; example weights 1\n",
            "input tensor: [ 857  255 3651 5738  306 4457  566 1229 2766  327 1201 3760    0    0]; target 0; example weights 1\n"
          ]
        }
      ]
    },
    {
      "cell_type": "markdown",
      "source": [
        "# Modelling"
      ],
      "metadata": {
        "id": "H4qmIsLwS0wj"
      }
    },
    {
      "cell_type": "code",
      "source": [
        "# Layers have weights and a foward function.\n",
        "# They create weights when layer.initialize is called and use them.\n",
        "# remove this or make it optional \n",
        "\n",
        "class Layer(object):\n",
        "    \"\"\"Base class for layers.\"\"\"\n",
        "    def __init__(self):\n",
        "        self.weights = None\n",
        "\n",
        "    def forward(self, x):\n",
        "        raise NotImplementedError\n",
        "  \n",
        "    def init_weights_and_state(self, input_signature, random_key):\n",
        "        pass\n",
        "\n",
        "    def init(self, input_signature, random_key):\n",
        "        self.init_weights_and_state(input_signature, random_key)\n",
        "        return self.weights\n",
        "    \n",
        "    def __call__(self, x):\n",
        "        return self.forward(x)"
      ],
      "metadata": {
        "id": "_Bt_MvdcvW0h"
      },
      "execution_count": 13,
      "outputs": []
    },
    {
      "cell_type": "code",
      "source": [
        "class Relu(Layer):\n",
        "    \"\"\"Relu activation function implementation\"\"\"\n",
        "    def forward(self, x):\n",
        "        '''\n",
        "        Input: \n",
        "            - x (a numpy array): the input\n",
        "        Output:\n",
        "            - activation (numpy array): all positive or 0 version of x\n",
        "        '''\n",
        "        activation = np.maximum(x,0)\n",
        "        return activation"
      ],
      "metadata": {
        "id": "iNJMfn0lMuWT"
      },
      "execution_count": 14,
      "outputs": []
    },
    {
      "cell_type": "code",
      "source": [
        "# Test your relu function\n",
        "x = np.array([[-2.0, -1.0, 0.0], [0.0, 1.0, 2.0]], dtype=float)\n",
        "relu_layer = Relu()\n",
        "print(\"Test data is:\")\n",
        "print(x)\n",
        "print(\"Output of Relu is:\")\n",
        "print(relu_layer(x))"
      ],
      "metadata": {
        "colab": {
          "base_uri": "https://localhost:8080/"
        },
        "id": "BWn9LwQNTBbS",
        "outputId": "b4dd8bd4-3bff-4dcf-d065-d12875870313"
      },
      "execution_count": 15,
      "outputs": [
        {
          "output_type": "stream",
          "name": "stdout",
          "text": [
            "Test data is:\n",
            "[[-2. -1.  0.]\n",
            " [ 0.  1.  2.]]\n",
            "Output of Relu is:\n",
            "[[0. 0. 0.]\n",
            " [0. 1. 2.]]\n"
          ]
        }
      ]
    },
    {
      "cell_type": "code",
      "source": [
        "# See how the trax.fastmath.random.normal function works\n",
        "tmp_key = trax.fastmath.random.get_prng(seed=1)\n",
        "print(\"The random seed generated by random.get_prng\")\n",
        "display(tmp_key)\n",
        "\n",
        "print(\"choose a matrix with 2 rows and 3 columns\")\n",
        "tmp_shape=(2,3)\n",
        "display(tmp_shape)\n",
        "\n",
        "# Generate a weight matrix\n",
        "# Note that you'll get an error if you try to set dtype to tf.float32, where tf is tensorflow\n",
        "# Just avoid setting the dtype and allow it to use the default data type\n",
        "tmp_weight = trax.fastmath.random.normal(key=tmp_key, shape=tmp_shape)\n",
        "\n",
        "print(\"Weight matrix generated with a normal distribution with mean 0 and stdev of 1\")\n",
        "display(tmp_weight)"
      ],
      "metadata": {
        "colab": {
          "base_uri": "https://localhost:8080/",
          "height": 0
        },
        "id": "tUl4j8KITP3C",
        "outputId": "8c88637e-109c-4308-8f9c-0cb331b906aa"
      },
      "execution_count": 16,
      "outputs": [
        {
          "output_type": "stream",
          "name": "stdout",
          "text": [
            "The random seed generated by random.get_prng\n"
          ]
        },
        {
          "output_type": "display_data",
          "data": {
            "text/plain": [
              "DeviceArray([0, 1], dtype=uint32)"
            ]
          },
          "metadata": {}
        },
        {
          "output_type": "stream",
          "name": "stdout",
          "text": [
            "choose a matrix with 2 rows and 3 columns\n"
          ]
        },
        {
          "output_type": "display_data",
          "data": {
            "text/plain": [
              "(2, 3)"
            ]
          },
          "metadata": {}
        },
        {
          "output_type": "stream",
          "name": "stdout",
          "text": [
            "Weight matrix generated with a normal distribution with mean 0 and stdev of 1\n"
          ]
        },
        {
          "output_type": "display_data",
          "data": {
            "text/plain": [
              "DeviceArray([[ 0.95730704, -0.9699289 ,  1.0070665 ],\n",
              "             [ 0.3661903 ,  0.1729483 ,  0.29092234]], dtype=float32)"
            ]
          },
          "metadata": {}
        }
      ]
    },
    {
      "cell_type": "code",
      "source": [
        "class Dense(Layer):\n",
        "    \"\"\"\n",
        "    A dense (fully-connected) layer.\n",
        "    \"\"\"\n",
        "\n",
        "    # __init__ is implemented for you\n",
        "    def __init__(self, n_units, init_stdev=0.1):\n",
        "        \n",
        "        # Set the number of units in this layer\n",
        "        self._n_units = n_units\n",
        "        self._init_stdev = init_stdev\n",
        "\n",
        "    # Please implement 'forward()'\n",
        "    def forward(self, x):\n",
        "\n",
        "### START CODE HERE (Replace instances of 'None' with your code) ###\n",
        "\n",
        "        # Matrix multiply x and the weight matrix\n",
        "        dense = np.dot(x,self.weights)\n",
        "        \n",
        "### END CODE HERE ###\n",
        "        return dense\n",
        "\n",
        "    # init_weights\n",
        "    def init_weights_and_state(self, input_signature, random_key):\n",
        "        \n",
        "### START CODE HERE (Replace instances of 'None' with your code) ###\n",
        "        # The input_signature has a .shape attribute that gives the shape as a tuple\n",
        "        input_shape = input_signature.shape\n",
        "\n",
        "        # Generate the weight matrix from a normal distribution, \n",
        "        # and standard deviation of 'stdev'        \n",
        "        w = self._init_stdev*trax.fastmath.random.normal(key=random_key, shape=(input_shape[-1],self._n_units))\n",
        "        \n",
        "### END CODE HERE ###     \n",
        "        self.weights = w\n",
        "        return self.weights"
      ],
      "metadata": {
        "id": "BGpZLqZbTWda"
      },
      "execution_count": 17,
      "outputs": []
    },
    {
      "cell_type": "markdown",
      "source": [
        "\n",
        "For the model implementation, we will use the Trax `layers` module, imported as `tl`.\n",
        "\n",
        "Note that the second character of `tl` is the lowercase of letter `L`, not the number 1. Trax layers are very similar to the ones we implemented above,\n",
        "but in addition to trainable weights also have a non-trainable state.\n",
        "State is used in layers like batch normalization and for inference, we will learn more about it in course 4.\n",
        "\n",
        "First, look at the code of the Trax Dense layer and compare to our implementation above.\n",
        "- [tl.Dense](https://github.com/google/trax/blob/master/trax/layers/core.py#L29): Trax Dense layer implementation\n",
        "\n",
        "One other important layer that we will use a lot is one that allows to execute one layer after another in sequence.\n",
        "- [tl.Serial](https://github.com/google/trax/blob/master/trax/layers/combinators.py#L26): Combinator that applies layers serially.  \n",
        "    - we can pass in the layers as arguments to `Serial`, separated by commas. \n",
        "    - For example: `tl.Serial(tl.Embeddings(...), tl.Mean(...), tl.Dense(...), tl.LogSoftmax(...))`\n",
        "\n",
        "Use the `help` function to view documentation for each layer."
      ],
      "metadata": {
        "id": "z3lkfkpoVLKz"
      }
    },
    {
      "cell_type": "markdown",
      "source": [
        "![image.png](data:image/png;base64,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)"
      ],
      "metadata": {
        "id": "3EjlmWk8VLNA"
      }
    },
    {
      "cell_type": "code",
      "source": [
        "def classifier(vocab_size=len(Vocab), embedding_dim=256, output_dim=2, mode='train'):\n",
        "        \n",
        "    # create embedding layer\n",
        "    embed_layer = tl.Embedding(\n",
        "        vocab_size=vocab_size, # Size of the vocabulary\n",
        "        d_feature=embedding_dim)  # Embedding dimension\n",
        "    \n",
        "    # Create a mean layer, to create an \"average\" word embedding\n",
        "    mean_layer = tl.Mean(axis=1)\n",
        "    \n",
        "    # Create a dense layer, one unit for each output\n",
        "    dense_output_layer = tl.Dense(n_units = output_dim)\n",
        "\n",
        "    \n",
        "    # Create the log softmax layer (no parameters needed)\n",
        "    log_softmax_layer = tl.LogSoftmax()\n",
        "    \n",
        "    # Use tl.Serial to combine all layers\n",
        "    # and create the classifier\n",
        "    # of type trax.layers.combinators.Serial\n",
        "    model = tl.Serial(\n",
        "      embed_layer, # embedding layer\n",
        "      mean_layer, # mean layer\n",
        "      dense_output_layer, # dense output layer \n",
        "      log_softmax_layer # log softmax layer\n",
        "    )\n",
        "    \n",
        "    # return the model of type\n",
        "    return model"
      ],
      "metadata": {
        "id": "eFIdQ8aPTa_X"
      },
      "execution_count": 18,
      "outputs": []
    },
    {
      "cell_type": "markdown",
      "source": [
        "# Training"
      ],
      "metadata": {
        "id": "eOoJ-DUvpYKx"
      }
    },
    {
      "cell_type": "code",
      "source": [
        "from trax.supervised import training\n",
        "\n",
        "def get_train_eval_tasks(train_pos, train_neg, val_pos, val_neg, vocab_dict, loop, batch_size = 16):\n",
        "    \n",
        "    rnd.seed(271)\n",
        "\n",
        "    train_task = training.TrainTask(\n",
        "        labeled_data=train_generator(batch_size, train_pos\n",
        "                    , train_neg, vocab_dict, loop\n",
        "                    , shuffle = True),\n",
        "        loss_layer=tl.WeightedCategoryCrossEntropy(),\n",
        "        optimizer=trax.optimizers.Adam(0.01),\n",
        "        n_steps_per_checkpoint=10,\n",
        "    )\n",
        "\n",
        "    eval_task = training.EvalTask(\n",
        "        labeled_data=val_generator(batch_size, val_pos\n",
        "                    , val_neg, vocab_dict, loop\n",
        "                    , shuffle = True),        \n",
        "        metrics=[tl.WeightedCategoryCrossEntropy(), tl.WeightedCategoryAccuracy()],#[tl.CrossEntropyLoss(), tl.Accuracy()],\n",
        "    )\n",
        "    \n",
        "    return train_task, eval_task\n",
        "    \n",
        "\n",
        "train_task, eval_task = get_train_eval_tasks(train_pos, train_neg, val_pos, val_neg, Vocab, True, batch_size = 16)\n",
        "model = classifier()"
      ],
      "metadata": {
        "id": "l_ghB3zeVGm3"
      },
      "execution_count": 19,
      "outputs": []
    },
    {
      "cell_type": "code",
      "source": [
        "model"
      ],
      "metadata": {
        "colab": {
          "base_uri": "https://localhost:8080/"
        },
        "id": "BISmfv5uVsaV",
        "outputId": "de8afdeb-3db7-4a92-b0e3-4c2a2eee96cf"
      },
      "execution_count": 20,
      "outputs": [
        {
          "output_type": "execute_result",
          "data": {
            "text/plain": [
              "Serial[\n",
              "  Embedding_9089_256\n",
              "  Mean\n",
              "  Dense_2\n",
              "  LogSoftmax\n",
              "]"
            ]
          },
          "metadata": {},
          "execution_count": 20
        }
      ]
    },
    {
      "cell_type": "code",
      "source": [
        "dir_path = '/content/model/'\n",
        "\n",
        "try:\n",
        "    shutil.rmtree(dir_path)\n",
        "except OSError as e:\n",
        "    pass\n",
        "\n",
        "\n",
        "output_dir = '/content/model'\n",
        "output_dir_expand = os.path.expanduser(output_dir)\n",
        "print(output_dir_expand)"
      ],
      "metadata": {
        "colab": {
          "base_uri": "https://localhost:8080/"
        },
        "id": "dUvnKeLiVujj",
        "outputId": "8eda1459-2522-4c5e-8fcd-968e322ae77c"
      },
      "execution_count": 21,
      "outputs": [
        {
          "output_type": "stream",
          "name": "stdout",
          "text": [
            "/content/model\n"
          ]
        }
      ]
    },
    {
      "cell_type": "markdown",
      "source": [
        "Implementing `train_model` to train the model (`classifier` that we wrote earlier) for the given number of training steps (`n_steps`) using `TrainTask`, `EvalTask` and `Loop`. For the `EvalTask`, take a look to the cell next to the function definition: the `eval_task` is passed as a list explicitly, so take that into account in the implementation of out  `train_model` function."
      ],
      "metadata": {
        "id": "aLTXiSOVV9qG"
      }
    },
    {
      "cell_type": "code",
      "source": [
        "def train_model(classifier, train_task, eval_task, n_steps, output_dir):\n",
        "    '''\n",
        "    Input: \n",
        "        classifier - the model you are building\n",
        "        train_task - Training task\n",
        "        eval_task - Evaluation task. Received as a list.\n",
        "        n_steps - the evaluation steps\n",
        "        output_dir - folder to save your files\n",
        "    Output:\n",
        "        trainer -  trax trainer\n",
        "    '''\n",
        "    rnd.seed(31) # Do NOT modify this random seed. This makes the notebook easier to replicate\n",
        "    \n",
        "    ### START CODE HERE (Replace instances of 'None' with your code) ###          \n",
        "    training_loop = training.Loop( \n",
        "                                classifier, # The learning model\n",
        "                                train_task, # The training task\n",
        "                                eval_tasks=eval_task, # The evaluation task\n",
        "                                output_dir=output_dir, # The output directory\n",
        "                                random_seed=31 # Do not modify this random seed in order to ensure reproducibility and for grading purposes.\n",
        "    ) \n",
        "\n",
        "    training_loop.run(n_steps = n_steps)\n",
        "    ### END CODE HERE ###\n",
        "    \n",
        "    # Return the training_loop, since it has the model.\n",
        "    return training_loop"
      ],
      "metadata": {
        "id": "sSeU0YjbV4Z1"
      },
      "execution_count": 22,
      "outputs": []
    },
    {
      "cell_type": "code",
      "source": [
        "training_loop = train_model(model, train_task, [eval_task], 100, output_dir_expand)"
      ],
      "metadata": {
        "colab": {
          "base_uri": "https://localhost:8080/"
        },
        "id": "p4GdsopoWGDk",
        "outputId": "e260eef4-564d-44a5-f86a-4b614b6a976d"
      },
      "execution_count": 23,
      "outputs": [
        {
          "output_type": "stream",
          "name": "stderr",
          "text": [
            "/usr/local/lib/python3.7/dist-packages/jax/_src/lib/xla_bridge.py:446: UserWarning: jax.host_count has been renamed to jax.process_count. This alias will eventually be removed; please update your code.\n",
            "  \"jax.host_count has been renamed to jax.process_count. This alias \"\n"
          ]
        },
        {
          "output_type": "stream",
          "name": "stdout",
          "text": [
            "\n",
            "Step      1: Total number of trainable weights: 2327298\n",
            "Step      1: Ran 1 train steps in 1.60 secs\n",
            "Step      1: train WeightedCategoryCrossEntropy |  0.69015592\n",
            "Step      1: eval  WeightedCategoryCrossEntropy |  0.68020153\n",
            "Step      1: eval      WeightedCategoryAccuracy |  0.62500000\n",
            "\n",
            "Step     10: Ran 9 train steps in 3.72 secs\n",
            "Step     10: train WeightedCategoryCrossEntropy |  0.64311719\n",
            "Step     10: eval  WeightedCategoryCrossEntropy |  0.58531135\n",
            "Step     10: eval      WeightedCategoryAccuracy |  0.68750000\n",
            "\n",
            "Step     20: Ran 10 train steps in 5.32 secs\n",
            "Step     20: train WeightedCategoryCrossEntropy |  0.48278910\n",
            "Step     20: eval  WeightedCategoryCrossEntropy |  0.34539065\n",
            "Step     20: eval      WeightedCategoryAccuracy |  1.00000000\n",
            "\n",
            "Step     30: Ran 10 train steps in 1.59 secs\n",
            "Step     30: train WeightedCategoryCrossEntropy |  0.24702363\n",
            "Step     30: eval  WeightedCategoryCrossEntropy |  0.07668982\n",
            "Step     30: eval      WeightedCategoryAccuracy |  1.00000000\n",
            "\n",
            "Step     40: Ran 10 train steps in 5.19 secs\n",
            "Step     40: train WeightedCategoryCrossEntropy |  0.11824597\n",
            "Step     40: eval  WeightedCategoryCrossEntropy |  0.04772513\n",
            "Step     40: eval      WeightedCategoryAccuracy |  1.00000000\n",
            "\n",
            "Step     50: Ran 10 train steps in 1.82 secs\n",
            "Step     50: train WeightedCategoryCrossEntropy |  0.07830741\n",
            "Step     50: eval  WeightedCategoryCrossEntropy |  0.04258057\n",
            "Step     50: eval      WeightedCategoryAccuracy |  1.00000000\n",
            "\n",
            "Step     60: Ran 10 train steps in 2.44 secs\n",
            "Step     60: train WeightedCategoryCrossEntropy |  0.02750233\n",
            "Step     60: eval  WeightedCategoryCrossEntropy |  0.04056919\n",
            "Step     60: eval      WeightedCategoryAccuracy |  1.00000000\n",
            "\n",
            "Step     70: Ran 10 train steps in 3.94 secs\n",
            "Step     70: train WeightedCategoryCrossEntropy |  0.02990624\n",
            "Step     70: eval  WeightedCategoryCrossEntropy |  0.05219901\n",
            "Step     70: eval      WeightedCategoryAccuracy |  1.00000000\n",
            "\n",
            "Step     80: Ran 10 train steps in 2.19 secs\n",
            "Step     80: train WeightedCategoryCrossEntropy |  0.08523747\n",
            "Step     80: eval  WeightedCategoryCrossEntropy |  0.00358873\n",
            "Step     80: eval      WeightedCategoryAccuracy |  1.00000000\n",
            "\n",
            "Step     90: Ran 10 train steps in 3.65 secs\n",
            "Step     90: train WeightedCategoryCrossEntropy |  0.04689842\n",
            "Step     90: eval  WeightedCategoryCrossEntropy |  0.00033428\n",
            "Step     90: eval      WeightedCategoryAccuracy |  1.00000000\n",
            "\n",
            "Step    100: Ran 10 train steps in 1.75 secs\n",
            "Step    100: train WeightedCategoryCrossEntropy |  0.03280067\n",
            "Step    100: eval  WeightedCategoryCrossEntropy |  0.01659190\n",
            "Step    100: eval      WeightedCategoryAccuracy |  1.00000000\n"
          ]
        }
      ]
    },
    {
      "cell_type": "markdown",
      "source": [
        "# Evaluation"
      ],
      "metadata": {
        "id": "I2YA-jpzWdQM"
      }
    },
    {
      "cell_type": "markdown",
      "source": [
        "## Computing the accuracy on a batch\n",
        "\n",
        "Writing a function that evaluates the model on the validation set and returns the accuracy. \n",
        "- `preds` contains the predictions.\n",
        "    - Its dimensions are `(batch_size, output_dim)`.  `output_dim` is two in this case.  Column 0 contains the probability that the tweet belongs to class 0 (negative sentiment). Column 1 contains probability that it belongs to class 1 (positive sentiment).\n",
        "    - If the probability in column 1 is greater than the probability in column 0, then interpret this as the model's prediction that the example has label 1 (positive sentiment).  \n",
        "    - Otherwise, if the probabilities are equal or the probability in column 0 is higher, the model's prediction is 0 (negative sentiment).\n",
        "- `y` contains the actual labels.\n",
        "- `y_weights` contains the weights to give to predictions"
      ],
      "metadata": {
        "id": "tNI-_MMHWf25"
      }
    },
    {
      "cell_type": "code",
      "source": [
        "def compute_accuracy(preds, y, y_weights):\n",
        "    \"\"\"\n",
        "    Input: \n",
        "        preds: a tensor of shape (dim_batch, output_dim) \n",
        "        y: a tensor of shape (dim_batch,) with the true labels\n",
        "        y_weights: a n.ndarray with the a weight for each example\n",
        "    Output: \n",
        "        accuracy: a float between 0-1 \n",
        "        weighted_num_correct (np.float32): Sum of the weighted correct predictions\n",
        "        sum_weights (np.float32): Sum of the weights\n",
        "    \"\"\"\n",
        "    # Create an array of booleans, \n",
        "    # True if the probability of positive sentiment is greater than\n",
        "    # the probability of negative sentiment\n",
        "    # else False\n",
        "    is_pos = preds[:,1] > preds[:,0]\n",
        "\n",
        "    # convert the array of booleans into an array of np.int32\n",
        "    is_pos_int = is_pos.astype(np.int32)\n",
        "    \n",
        "    # compare the array of predictions (as int32) with the target (labels) of type int32\n",
        "    correct = is_pos_int == y\n",
        "\n",
        "    # Count the sum of the weights.\n",
        "    sum_weights = sum(y_weights)\n",
        "    \n",
        "    # convert the array of correct predictions (boolean) into an arrayof np.float32\n",
        "    correct_float = correct.astype(np.float32)\n",
        "    \n",
        "    # Multiply each prediction with its corresponding weight.\n",
        "    weighted_correct_float = correct_float*y_weights\n",
        "\n",
        "    # Sum up the weighted correct predictions (of type np.float32), to go in the\n",
        "    # denominator.\n",
        "    weighted_num_correct = sum(weighted_correct_float)\n",
        "\n",
        "    # Divide the number of weighted correct predictions by the sum of the\n",
        "    # weights.\n",
        "    accuracy = weighted_num_correct/sum_weights\n",
        "    \n",
        "    return accuracy, weighted_num_correct, sum_weights"
      ],
      "metadata": {
        "id": "06Y3Ibv1WIC-"
      },
      "execution_count": 24,
      "outputs": []
    },
    {
      "cell_type": "code",
      "source": [
        "tmp_val_generator = val_generator(64, val_pos\n",
        "                    , val_neg, Vocab, loop=True\n",
        "                    , shuffle = False)\n",
        "\n",
        "# get one batch\n",
        "tmp_batch = next(tmp_val_generator)\n",
        "\n",
        "# Position 0 has the model inputs (tweets as tensors)\n",
        "# position 1 has the targets (the actual labels)\n",
        "tmp_inputs, tmp_targets, tmp_example_weights = tmp_batch\n",
        "\n",
        "# feed the tweet tensors into the model to get a prediction\n",
        "tmp_pred = training_loop.eval_model(tmp_inputs)\n",
        "tmp_acc, tmp_num_correct, tmp_num_predictions = compute_accuracy(preds=tmp_pred, y=tmp_targets, y_weights=tmp_example_weights)\n",
        "\n",
        "print(f\"Model's prediction accuracy on a single training batch is: {100 * tmp_acc}%\")\n",
        "print(f\"Weighted number of correct predictions {tmp_num_correct}; weighted number of total observations predicted {tmp_num_predictions}\")"
      ],
      "metadata": {
        "colab": {
          "base_uri": "https://localhost:8080/"
        },
        "id": "4nan_oh6Ws02",
        "outputId": "590e745f-acd5-4cbf-f151-1eec1f346ca6"
      },
      "execution_count": 25,
      "outputs": [
        {
          "output_type": "stream",
          "name": "stdout",
          "text": [
            "Model's prediction accuracy on a single training batch is: 100.0%\n",
            "Weighted number of correct predictions 64.0; weighted number of total observations predicted 64\n"
          ]
        }
      ]
    },
    {
      "cell_type": "code",
      "source": [
        "def test_model(generator, model):\n",
        "    '''\n",
        "    Input: \n",
        "        generator: an iterator instance that provides batches of inputs and targets\n",
        "        model: a model instance \n",
        "    Output: \n",
        "        accuracy: float corresponding to the accuracy\n",
        "    '''\n",
        "    accuracy = 0.\n",
        "    total_num_correct = 0\n",
        "    total_num_pred = 0\n",
        "    \n",
        "    for batch in generator: \n",
        "        \n",
        "        # Retrieve the inputs from the batch\n",
        "        inputs = batch[0]\n",
        "        \n",
        "        # Retrieve the targets (actual labels) from the batch\n",
        "        targets = batch[1]\n",
        "        \n",
        "        # Retrieve the example weight.\n",
        "        example_weight = batch[-1]\n",
        "\n",
        "        # Make predictions using the inputs\n",
        "        pred = model(inputs)\n",
        "        \n",
        "        # Calculate accuracy for the batch by comparing its predictions and targets\n",
        "        batch_accuracy, batch_num_correct, batch_num_pred = compute_accuracy(pred, targets, example_weight)\n",
        "        \n",
        "        # Update the total number of correct predictions\n",
        "        # by adding the number of correct predictions from this batch\n",
        "        total_num_correct += batch_num_correct\n",
        "        \n",
        "        # Update the total number of predictions \n",
        "        # by adding the number of predictions made for the batch\n",
        "        total_num_pred += batch_num_pred\n",
        "\n",
        "    # Calculate accuracy over all examples\n",
        "    accuracy = total_num_correct/total_num_pred\n",
        "    \n",
        "    return accuracy"
      ],
      "metadata": {
        "id": "Rd0LeMwxWy4s"
      },
      "execution_count": 26,
      "outputs": []
    },
    {
      "cell_type": "code",
      "source": [
        "model = training_loop.eval_model\n",
        "accuracy = test_model(test_generator(16, val_pos\n",
        "                    , val_neg, Vocab, loop=False\n",
        "                    , shuffle = False), model)\n",
        "\n",
        "print(f'The accuracy of your model on the validation set is {accuracy:.4f}', )"
      ],
      "metadata": {
        "colab": {
          "base_uri": "https://localhost:8080/"
        },
        "id": "W6oINyMRnF-k",
        "outputId": "8d179337-ac12-4a63-a618-acb303b03586"
      },
      "execution_count": 27,
      "outputs": [
        {
          "output_type": "stream",
          "name": "stdout",
          "text": [
            "The accuracy of your model on the validation set is 0.9891\n"
          ]
        }
      ]
    },
    {
      "cell_type": "markdown",
      "source": [
        "# Predicting"
      ],
      "metadata": {
        "id": "bzk_DC4vnQ-h"
      }
    },
    {
      "cell_type": "code",
      "source": [
        "def predict(sentence):\n",
        "    inputs = np.array(tweet_to_tensor(sentence, vocab_dict=Vocab))\n",
        "    \n",
        "    # Batch size 1, add dimension for batch, to work with the model\n",
        "    inputs = inputs[None, :]  \n",
        "    \n",
        "    # predict with the model\n",
        "    preds_probs = model(inputs)\n",
        "    \n",
        "    # Turn probabilities into categories\n",
        "    preds = int(preds_probs[0, 1] > preds_probs[0, 0])\n",
        "    \n",
        "    sentiment = \"negative\"\n",
        "    if preds == 1:\n",
        "        sentiment = 'positive'\n",
        "\n",
        "    return preds, sentiment"
      ],
      "metadata": {
        "id": "9Fg-gbjynMQM"
      },
      "execution_count": 28,
      "outputs": []
    },
    {
      "cell_type": "code",
      "source": [
        "# try a positive sentence\n",
        "sentence = \"It's such a nice day, think i'll be taking Sid to Ramsgate fish and chips for lunch at Peter's fish factory and then the beach maybe\"\n",
        "tmp_pred, tmp_sentiment = predict(sentence)\n",
        "print(f\"The sentiment of the sentence \\n***\\n\\\"{sentence}\\\"\\n***\\nis {tmp_sentiment}.\")\n",
        "\n",
        "print()\n",
        "# try a negative sentence\n",
        "sentence = \"I hated my day, it was the worst, I'm so sad.\"\n",
        "tmp_pred, tmp_sentiment = predict(sentence)\n",
        "print(f\"The sentiment of the sentence \\n***\\n\\\"{sentence}\\\"\\n***\\nis {tmp_sentiment}.\")"
      ],
      "metadata": {
        "colab": {
          "base_uri": "https://localhost:8080/"
        },
        "id": "vFonbi7VnQU5",
        "outputId": "dcadf9a1-8eb4-406b-dca2-24abd30cf0ea"
      },
      "execution_count": 29,
      "outputs": [
        {
          "output_type": "stream",
          "name": "stdout",
          "text": [
            "The sentiment of the sentence \n",
            "***\n",
            "\"It's such a nice day, think i'll be taking Sid to Ramsgate fish and chips for lunch at Peter's fish factory and then the beach maybe\"\n",
            "***\n",
            "is positive.\n",
            "\n",
            "The sentiment of the sentence \n",
            "***\n",
            "\"I hated my day, it was the worst, I'm so sad.\"\n",
            "***\n",
            "is negative.\n"
          ]
        }
      ]
    },
    {
      "cell_type": "markdown",
      "source": [
        "# Word Embeddings"
      ],
      "metadata": {
        "id": "_WIZjNmzpe7v"
      }
    },
    {
      "cell_type": "code",
      "source": [
        "embeddings = model.weights[0]"
      ],
      "metadata": {
        "id": "8pm-CZsznY8n"
      },
      "execution_count": 30,
      "outputs": []
    },
    {
      "cell_type": "code",
      "source": [
        "# Look at the size of the embeddings.\n",
        "embeddings.shape"
      ],
      "metadata": {
        "colab": {
          "base_uri": "https://localhost:8080/"
        },
        "id": "NyTIYBKKpgeY",
        "outputId": "68eab1f2-8448-4ae0-8df2-f675dc5cbfd4"
      },
      "execution_count": 31,
      "outputs": [
        {
          "output_type": "execute_result",
          "data": {
            "text/plain": [
              "(9089, 256)"
            ]
          },
          "metadata": {},
          "execution_count": 31
        }
      ]
    },
    {
      "cell_type": "markdown",
      "source": [
        "To visualize the word embeddings, it is necessary to choose 2 directions to use as axes for the plot. Here I used random directions or the first two eigenvectors from PCA. Here I used scikit-learn to perform dimensionality reduction of the word embeddings using PCA."
      ],
      "metadata": {
        "id": "m31vS6rcpp1a"
      }
    },
    {
      "cell_type": "code",
      "source": [
        "from sklearn.decomposition import PCA #Import PCA from scikit-learn\n",
        "pca = PCA(n_components=2) #PCA with two dimensions\n",
        "\n",
        "emb_2dim = pca.fit_transform(embeddings) #Dimensionality reduction of the word embeddings"
      ],
      "metadata": {
        "id": "EzdE9vDDpln8"
      },
      "execution_count": 32,
      "outputs": []
    },
    {
      "cell_type": "markdown",
      "source": [
        "Ploting a selection of words in 2d."
      ],
      "metadata": {
        "id": "o9TTEU27p_3H"
      }
    },
    {
      "cell_type": "code",
      "source": [
        "%matplotlib inline\n",
        "import matplotlib.pyplot as plt\n",
        "\n",
        "#Selection of negative and positive words\n",
        "neg_words = ['worst', 'bad', 'hurt', 'sad', 'hate']\n",
        "pos_words = ['best', 'good', 'nice', 'better', 'love']\n",
        "\n",
        "#Index of each selected word\n",
        "neg_n = [Vocab[w] for w in neg_words]\n",
        "pos_n = [Vocab[w] for w in pos_words]\n",
        "\n",
        "plt.figure()\n",
        "\n",
        "#Scatter plot for negative words\n",
        "plt.scatter(emb_2dim[neg_n][:,0],emb_2dim[neg_n][:,1], color = 'r')\n",
        "for i, txt in enumerate(neg_words): \n",
        "    plt.annotate(txt, (emb_2dim[neg_n][i,0],emb_2dim[neg_n][i,1]))\n",
        "\n",
        "#Scatter plot for positive words\n",
        "plt.scatter(emb_2dim[pos_n][:,0],emb_2dim[pos_n][:,1], color = 'g')\n",
        "for i, txt in enumerate(pos_words): \n",
        "    plt.annotate(txt,(emb_2dim[pos_n][i,0],emb_2dim[pos_n][i,1]))\n",
        "\n",
        "plt.title('Word embeddings in 2d')\n",
        "\n",
        "plt.show()"
      ],
      "metadata": {
        "colab": {
          "base_uri": "https://localhost:8080/",
          "height": 0
        },
        "id": "aVvXdFQTp4qZ",
        "outputId": "4ea5dcee-3058-4a94-85e7-82a71345a469"
      },
      "execution_count": 33,
      "outputs": [
        {
          "output_type": "display_data",
          "data": {
            "text/plain": [
              "<Figure size 432x288 with 1 Axes>"
            ],
            "image/png": "[encoded data removed]"
          },
          "metadata": {
            "needs_background": "light"
          }
        }
      ]
    },
    {
      "cell_type": "markdown",
      "source": [
        "The word embeddings for this task seem to distinguish negative and positive meanings very well. However, clusters don't necessarily have similar words since you only trained the model to analyze overall sentiment. "
      ],
      "metadata": {
        "id": "31uPj03PqHZX"
      }
    },
    {
      "cell_type": "markdown",
      "source": [
        "### On Deep Nets\n",
        "\n",
        "Deep nets allow us to understand and capture dependencies that we would have not been able to capture with a simple linear regression, or logistic regression. \n",
        "- It also allows us to better use pre-trained embeddings for classification and tends to generalize better."
      ],
      "metadata": {
        "id": "s6tWHEw5qOa6"
      }
    }
  ]
}